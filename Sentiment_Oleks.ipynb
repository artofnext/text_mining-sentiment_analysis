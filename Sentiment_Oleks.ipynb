{
 "cells": [
  {
   "cell_type": "code",
   "execution_count": 13,
   "id": "b411c026",
   "metadata": {},
   "outputs": [],
   "source": [
    "from textblob import TextBlob\n",
    "import pandas as pd\n",
    "import numpy as np\n",
    "from textblob.classifiers import NaiveBayesClassifier\n",
    "from pprint import pprint"
   ]
  },
  {
   "cell_type": "markdown",
   "id": "38d05794",
   "metadata": {},
   "source": [
    "### Rule-based sentiment analysis"
   ]
  },
  {
   "cell_type": "markdown",
   "id": "e218a2f8",
   "metadata": {},
   "source": [
    "Load datasets, checking."
   ]
  },
  {
   "cell_type": "code",
   "execution_count": 5,
   "id": "8ea24165",
   "metadata": {},
   "outputs": [],
   "source": [
    "df_train = pd.read_csv(\"amazon_reviews_train.csv\", encoding=\"utf-8\")\n",
    "df_test = pd.read_csv(\"amazon_reviews_test.csv\", encoding=\"utf-8\")"
   ]
  },
  {
   "cell_type": "code",
   "execution_count": 6,
   "id": "ca3b983d",
   "metadata": {
    "scrolled": false
   },
   "outputs": [
    {
     "data": {
      "text/html": [
       "<div>\n",
       "<style scoped>\n",
       "    .dataframe tbody tr th:only-of-type {\n",
       "        vertical-align: middle;\n",
       "    }\n",
       "\n",
       "    .dataframe tbody tr th {\n",
       "        vertical-align: top;\n",
       "    }\n",
       "\n",
       "    .dataframe thead th {\n",
       "        text-align: right;\n",
       "    }\n",
       "</style>\n",
       "<table border=\"1\" class=\"dataframe\">\n",
       "  <thead>\n",
       "    <tr style=\"text-align: right;\">\n",
       "      <th></th>\n",
       "      <th>sentiment</th>\n",
       "      <th>review</th>\n",
       "    </tr>\n",
       "  </thead>\n",
       "  <tbody>\n",
       "    <tr>\n",
       "      <th>0</th>\n",
       "      <td>negative</td>\n",
       "      <td>Product arrived labeled as Jumbo Salted Peanut...</td>\n",
       "    </tr>\n",
       "    <tr>\n",
       "      <th>1</th>\n",
       "      <td>positive</td>\n",
       "      <td>This is a confection that has been around a fe...</td>\n",
       "    </tr>\n",
       "    <tr>\n",
       "      <th>2</th>\n",
       "      <td>negative</td>\n",
       "      <td>If you are looking for the secret ingredient i...</td>\n",
       "    </tr>\n",
       "    <tr>\n",
       "      <th>3</th>\n",
       "      <td>positive</td>\n",
       "      <td>Great taffy at a great price.  There was a wid...</td>\n",
       "    </tr>\n",
       "    <tr>\n",
       "      <th>4</th>\n",
       "      <td>positive</td>\n",
       "      <td>This saltwater taffy had great flavors and was...</td>\n",
       "    </tr>\n",
       "  </tbody>\n",
       "</table>\n",
       "</div>"
      ],
      "text/plain": [
       "  sentiment                                             review\n",
       "0  negative  Product arrived labeled as Jumbo Salted Peanut...\n",
       "1  positive  This is a confection that has been around a fe...\n",
       "2  negative  If you are looking for the secret ingredient i...\n",
       "3  positive  Great taffy at a great price.  There was a wid...\n",
       "4  positive  This saltwater taffy had great flavors and was..."
      ]
     },
     "execution_count": 6,
     "metadata": {},
     "output_type": "execute_result"
    }
   ],
   "source": [
    "df_train.head()"
   ]
  },
  {
   "cell_type": "code",
   "execution_count": 52,
   "id": "fefedcf8",
   "metadata": {},
   "outputs": [
    {
     "name": "stdout",
     "output_type": "stream",
     "text": [
      "Train dataset entitys:  48902\n"
     ]
    }
   ],
   "source": [
    "print(\"Train dataset length: \", len(df_train))"
   ]
  },
  {
   "cell_type": "code",
   "execution_count": 7,
   "id": "7817318f",
   "metadata": {
    "scrolled": true
   },
   "outputs": [
    {
     "data": {
      "text/html": [
       "<div>\n",
       "<style scoped>\n",
       "    .dataframe tbody tr th:only-of-type {\n",
       "        vertical-align: middle;\n",
       "    }\n",
       "\n",
       "    .dataframe tbody tr th {\n",
       "        vertical-align: top;\n",
       "    }\n",
       "\n",
       "    .dataframe thead th {\n",
       "        text-align: right;\n",
       "    }\n",
       "</style>\n",
       "<table border=\"1\" class=\"dataframe\">\n",
       "  <thead>\n",
       "    <tr style=\"text-align: right;\">\n",
       "      <th></th>\n",
       "      <th>sentiment</th>\n",
       "      <th>review</th>\n",
       "    </tr>\n",
       "  </thead>\n",
       "  <tbody>\n",
       "    <tr>\n",
       "      <th>0</th>\n",
       "      <td>negative</td>\n",
       "      <td>I was going to give these seeds a 3-star ratin...</td>\n",
       "    </tr>\n",
       "    <tr>\n",
       "      <th>1</th>\n",
       "      <td>positive</td>\n",
       "      <td>This is a nice smooth coffee, a part of the Ke...</td>\n",
       "    </tr>\n",
       "    <tr>\n",
       "      <th>2</th>\n",
       "      <td>positive</td>\n",
       "      <td>I order this pearl sugar to make liege waffle....</td>\n",
       "    </tr>\n",
       "    <tr>\n",
       "      <th>3</th>\n",
       "      <td>negative</td>\n",
       "      <td>Used these in a waffle recipe that said they w...</td>\n",
       "    </tr>\n",
       "    <tr>\n",
       "      <th>4</th>\n",
       "      <td>positive</td>\n",
       "      <td>Mayonnaise is an interesting product, cool, sm...</td>\n",
       "    </tr>\n",
       "  </tbody>\n",
       "</table>\n",
       "</div>"
      ],
      "text/plain": [
       "  sentiment                                             review\n",
       "0  negative  I was going to give these seeds a 3-star ratin...\n",
       "1  positive  This is a nice smooth coffee, a part of the Ke...\n",
       "2  positive  I order this pearl sugar to make liege waffle....\n",
       "3  negative  Used these in a waffle recipe that said they w...\n",
       "4  positive  Mayonnaise is an interesting product, cool, sm..."
      ]
     },
     "execution_count": 7,
     "metadata": {},
     "output_type": "execute_result"
    }
   ],
   "source": [
    "df_test.head()"
   ]
  },
  {
   "cell_type": "code",
   "execution_count": 53,
   "id": "9b0c9d15",
   "metadata": {},
   "outputs": [
    {
     "name": "stdout",
     "output_type": "stream",
     "text": [
      "Test dataset length:  2417\n"
     ]
    }
   ],
   "source": [
    "print(\"Test dataset length: \", len(df_test))"
   ]
  },
  {
   "cell_type": "markdown",
   "id": "685f4806",
   "metadata": {},
   "source": [
    "Precision of TextBlob"
   ]
  },
  {
   "cell_type": "code",
   "execution_count": 73,
   "id": "4db1b759",
   "metadata": {},
   "outputs": [
    {
     "name": "stdout",
     "output_type": "stream",
     "text": [
      "TextBlob precision =  0.7691352916839057\n"
     ]
    }
   ],
   "source": [
    "reviews = np.array(df_test)\n",
    "\n",
    "counter = 0\n",
    "for sent, rev in reviews:\n",
    "    polarity = TextBlob(rev).sentiment.polarity\n",
    "    prediction = \"positive\" if polarity > 0 else \"negative\"\n",
    "    if sent == prediction:\n",
    "        counter += 1\n",
    "precision = counter / len(reviews)\n",
    "\n",
    "print(\"TextBlob precision = \", precision)"
   ]
  },
  {
   "cell_type": "markdown",
   "id": "33f13649",
   "metadata": {},
   "source": [
    "Precision of VaderSentiment"
   ]
  },
  {
   "cell_type": "code",
   "execution_count": 41,
   "id": "9093b5a6",
   "metadata": {},
   "outputs": [],
   "source": [
    "from vaderSentiment.vaderSentiment import SentimentIntensityAnalyzer"
   ]
  },
  {
   "cell_type": "code",
   "execution_count": 74,
   "id": "921b9b85",
   "metadata": {},
   "outputs": [
    {
     "name": "stdout",
     "output_type": "stream",
     "text": [
      "VaderSentiment precision =  0.7931319817956144\n"
     ]
    }
   ],
   "source": [
    "analyzer = SentimentIntensityAnalyzer()\n",
    "    \n",
    "counter = 0\n",
    "for sent, rev in reviews:\n",
    "    vs = analyzer.polarity_scores(rev)\n",
    "#     prediction = \"positive\" if vs[\"pos\"] > vs[\"neg\"] else \"negative\"\n",
    "    prediction = \"positive\" if vs[\"compound\"] > 0 else \"negative\"\n",
    "    if sent == prediction:\n",
    "        counter += 1\n",
    "precision = counter / len(reviews)\n",
    "\n",
    "print(\"VaderSentiment precision = \", precision)"
   ]
  },
  {
   "cell_type": "code",
   "execution_count": null,
   "id": "df8c0ed6",
   "metadata": {},
   "outputs": [],
   "source": [
    "VaderSentiment precision =  0.788580885395118\n",
    "TextBlob precision =  0.7641704592470004\n"
   ]
  },
  {
   "cell_type": "code",
   "execution_count": null,
   "id": "9041d927",
   "metadata": {},
   "outputs": [],
   "source": []
  }
 ],
 "metadata": {
  "kernelspec": {
   "display_name": "Python 3.8 (XPython)",
   "language": "python",
   "name": "xpython"
  },
  "language_info": {
   "file_extension": ".py",
   "mimetype": "text/x-python",
   "name": "python",
   "version": "3.8.5"
  }
 },
 "nbformat": 4,
 "nbformat_minor": 5
}
