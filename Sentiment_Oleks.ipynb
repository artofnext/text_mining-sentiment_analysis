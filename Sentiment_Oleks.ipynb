{
 "cells": [
  {
   "cell_type": "code",
   "execution_count": 1,
   "id": "b411c026",
   "metadata": {},
   "outputs": [],
   "source": [
    "from textblob import TextBlob\n",
    "import pandas as pd\n",
    "import numpy as np\n",
    "from textblob.classifiers import NaiveBayesClassifier\n",
    "from pprint import pprint"
   ]
  },
  {
   "cell_type": "code",
   "execution_count": 2,
   "id": "1b3e52e4",
   "metadata": {},
   "outputs": [
    {
     "name": "stderr",
     "output_type": "stream",
     "text": [
      "[nltk_data] Downloading package punkt to\n",
      "[nltk_data]     C:\\Users\\Iryna\\AppData\\Roaming\\nltk_data...\n",
      "[nltk_data]   Package punkt is already up-to-date!\n",
      "[nltk_data] Downloading package averaged_perceptron_tagger to\n",
      "[nltk_data]     C:\\Users\\Iryna\\AppData\\Roaming\\nltk_data...\n",
      "[nltk_data]   Package averaged_perceptron_tagger is already up-to-\n",
      "[nltk_data]       date!\n",
      "[nltk_data] Downloading package wordnet to\n",
      "[nltk_data]     C:\\Users\\Iryna\\AppData\\Roaming\\nltk_data...\n",
      "[nltk_data]   Package wordnet is already up-to-date!\n"
     ]
    },
    {
     "data": {
      "text/plain": [
       "True"
      ]
     },
     "execution_count": 2,
     "metadata": {},
     "output_type": "execute_result"
    }
   ],
   "source": [
    "import nltk\n",
    "nltk.download('punkt')\n",
    "nltk.download('averaged_perceptron_tagger')\n",
    "nltk.download('wordnet')"
   ]
  },
  {
   "cell_type": "markdown",
   "id": "38d05794",
   "metadata": {},
   "source": [
    "### Rule-based sentiment analysis"
   ]
  },
  {
   "cell_type": "markdown",
   "id": "e218a2f8",
   "metadata": {},
   "source": [
    "Load datasets, checking."
   ]
  },
  {
   "cell_type": "code",
   "execution_count": 3,
   "id": "8ea24165",
   "metadata": {},
   "outputs": [],
   "source": [
    "df_train = pd.read_csv(\"amazon_reviews_train.csv\", encoding=\"utf-8\")\n",
    "df_test = pd.read_csv(\"amazon_reviews_test.csv\", encoding=\"utf-8\")"
   ]
  },
  {
   "cell_type": "code",
   "execution_count": 4,
   "id": "ca3b983d",
   "metadata": {
    "scrolled": false
   },
   "outputs": [
    {
     "data": {
      "text/html": [
       "<div>\n",
       "<style scoped>\n",
       "    .dataframe tbody tr th:only-of-type {\n",
       "        vertical-align: middle;\n",
       "    }\n",
       "\n",
       "    .dataframe tbody tr th {\n",
       "        vertical-align: top;\n",
       "    }\n",
       "\n",
       "    .dataframe thead th {\n",
       "        text-align: right;\n",
       "    }\n",
       "</style>\n",
       "<table border=\"1\" class=\"dataframe\">\n",
       "  <thead>\n",
       "    <tr style=\"text-align: right;\">\n",
       "      <th></th>\n",
       "      <th>sentiment</th>\n",
       "      <th>review</th>\n",
       "    </tr>\n",
       "  </thead>\n",
       "  <tbody>\n",
       "    <tr>\n",
       "      <th>0</th>\n",
       "      <td>negative</td>\n",
       "      <td>Product arrived labeled as Jumbo Salted Peanut...</td>\n",
       "    </tr>\n",
       "    <tr>\n",
       "      <th>1</th>\n",
       "      <td>positive</td>\n",
       "      <td>This is a confection that has been around a fe...</td>\n",
       "    </tr>\n",
       "    <tr>\n",
       "      <th>2</th>\n",
       "      <td>negative</td>\n",
       "      <td>If you are looking for the secret ingredient i...</td>\n",
       "    </tr>\n",
       "    <tr>\n",
       "      <th>3</th>\n",
       "      <td>positive</td>\n",
       "      <td>Great taffy at a great price.  There was a wid...</td>\n",
       "    </tr>\n",
       "    <tr>\n",
       "      <th>4</th>\n",
       "      <td>positive</td>\n",
       "      <td>This saltwater taffy had great flavors and was...</td>\n",
       "    </tr>\n",
       "  </tbody>\n",
       "</table>\n",
       "</div>"
      ],
      "text/plain": [
       "  sentiment                                             review\n",
       "0  negative  Product arrived labeled as Jumbo Salted Peanut...\n",
       "1  positive  This is a confection that has been around a fe...\n",
       "2  negative  If you are looking for the secret ingredient i...\n",
       "3  positive  Great taffy at a great price.  There was a wid...\n",
       "4  positive  This saltwater taffy had great flavors and was..."
      ]
     },
     "execution_count": 4,
     "metadata": {},
     "output_type": "execute_result"
    }
   ],
   "source": [
    "df_train.head()"
   ]
  },
  {
   "cell_type": "code",
   "execution_count": 5,
   "id": "fefedcf8",
   "metadata": {},
   "outputs": [
    {
     "name": "stdout",
     "output_type": "stream",
     "text": [
      "Train dataset length:  48902\n"
     ]
    }
   ],
   "source": [
    "print(\"Train dataset length: \", len(df_train))"
   ]
  },
  {
   "cell_type": "code",
   "execution_count": 6,
   "id": "7817318f",
   "metadata": {
    "scrolled": true
   },
   "outputs": [
    {
     "data": {
      "text/html": [
       "<div>\n",
       "<style scoped>\n",
       "    .dataframe tbody tr th:only-of-type {\n",
       "        vertical-align: middle;\n",
       "    }\n",
       "\n",
       "    .dataframe tbody tr th {\n",
       "        vertical-align: top;\n",
       "    }\n",
       "\n",
       "    .dataframe thead th {\n",
       "        text-align: right;\n",
       "    }\n",
       "</style>\n",
       "<table border=\"1\" class=\"dataframe\">\n",
       "  <thead>\n",
       "    <tr style=\"text-align: right;\">\n",
       "      <th></th>\n",
       "      <th>sentiment</th>\n",
       "      <th>review</th>\n",
       "    </tr>\n",
       "  </thead>\n",
       "  <tbody>\n",
       "    <tr>\n",
       "      <th>0</th>\n",
       "      <td>negative</td>\n",
       "      <td>I was going to give these seeds a 3-star ratin...</td>\n",
       "    </tr>\n",
       "    <tr>\n",
       "      <th>1</th>\n",
       "      <td>positive</td>\n",
       "      <td>This is a nice smooth coffee, a part of the Ke...</td>\n",
       "    </tr>\n",
       "    <tr>\n",
       "      <th>2</th>\n",
       "      <td>positive</td>\n",
       "      <td>I order this pearl sugar to make liege waffle....</td>\n",
       "    </tr>\n",
       "    <tr>\n",
       "      <th>3</th>\n",
       "      <td>negative</td>\n",
       "      <td>Used these in a waffle recipe that said they w...</td>\n",
       "    </tr>\n",
       "    <tr>\n",
       "      <th>4</th>\n",
       "      <td>positive</td>\n",
       "      <td>Mayonnaise is an interesting product, cool, sm...</td>\n",
       "    </tr>\n",
       "  </tbody>\n",
       "</table>\n",
       "</div>"
      ],
      "text/plain": [
       "  sentiment                                             review\n",
       "0  negative  I was going to give these seeds a 3-star ratin...\n",
       "1  positive  This is a nice smooth coffee, a part of the Ke...\n",
       "2  positive  I order this pearl sugar to make liege waffle....\n",
       "3  negative  Used these in a waffle recipe that said they w...\n",
       "4  positive  Mayonnaise is an interesting product, cool, sm..."
      ]
     },
     "execution_count": 6,
     "metadata": {},
     "output_type": "execute_result"
    }
   ],
   "source": [
    "df_test.head()"
   ]
  },
  {
   "cell_type": "code",
   "execution_count": 7,
   "id": "9b0c9d15",
   "metadata": {},
   "outputs": [
    {
     "name": "stdout",
     "output_type": "stream",
     "text": [
      "Test dataset length:  2417\n"
     ]
    }
   ],
   "source": [
    "print(\"Test dataset length: \", len(df_test))"
   ]
  },
  {
   "cell_type": "markdown",
   "id": "685f4806",
   "metadata": {},
   "source": [
    "Precision of TextBlob"
   ]
  },
  {
   "cell_type": "code",
   "execution_count": 8,
   "id": "4db1b759",
   "metadata": {},
   "outputs": [
    {
     "name": "stdout",
     "output_type": "stream",
     "text": [
      "TextBlob accuracy =  0.7691352916839057\n"
     ]
    }
   ],
   "source": [
    "reviews = np.array(df_test)\n",
    "\n",
    "counter = 0\n",
    "for sent, rev in reviews:\n",
    "    polarity = TextBlob(rev).sentiment.polarity\n",
    "    prediction = \"positive\" if polarity > 0 else \"negative\"\n",
    "    if sent == prediction:\n",
    "        counter += 1\n",
    "accuracy = counter / len(reviews)\n",
    "\n",
    "print(\"TextBlob accuracy = \", accuracy)"
   ]
  },
  {
   "cell_type": "markdown",
   "id": "33f13649",
   "metadata": {},
   "source": [
    "Precision of VaderSentiment"
   ]
  },
  {
   "cell_type": "code",
   "execution_count": 9,
   "id": "9093b5a6",
   "metadata": {},
   "outputs": [],
   "source": [
    "from vaderSentiment.vaderSentiment import SentimentIntensityAnalyzer"
   ]
  },
  {
   "cell_type": "code",
   "execution_count": 10,
   "id": "921b9b85",
   "metadata": {},
   "outputs": [
    {
     "name": "stdout",
     "output_type": "stream",
     "text": [
      "VaderSentiment precision =  0.7931319817956144\n"
     ]
    }
   ],
   "source": [
    "analyzer = SentimentIntensityAnalyzer()\n",
    "    \n",
    "counter = 0\n",
    "for sent, rev in reviews:\n",
    "    vs = analyzer.polarity_scores(rev)\n",
    "#     prediction = \"positive\" if vs[\"pos\"] > vs[\"neg\"] else \"negative\"\n",
    "    prediction = \"positive\" if vs[\"compound\"] > 0 else \"negative\"\n",
    "    if sent == prediction:\n",
    "        counter += 1\n",
    "precision = counter / len(reviews)\n",
    "\n",
    "print(\"VaderSentiment precision = \", precision)"
   ]
  },
  {
   "cell_type": "markdown",
   "id": "6f8c0e43",
   "metadata": {},
   "source": [
    "\n"
   ]
  },
  {
   "cell_type": "code",
   "execution_count": 11,
   "id": "a1280675",
   "metadata": {},
   "outputs": [],
   "source": [
    "df_dict = pd.read_csv(\"NCR-lexicon.csv\", encoding=\"utf-8\")"
   ]
  },
  {
   "cell_type": "code",
   "execution_count": 12,
   "id": "7daf20e9",
   "metadata": {},
   "outputs": [
    {
     "data": {
      "text/html": [
       "<div>\n",
       "<style scoped>\n",
       "    .dataframe tbody tr th:only-of-type {\n",
       "        vertical-align: middle;\n",
       "    }\n",
       "\n",
       "    .dataframe tbody tr th {\n",
       "        vertical-align: top;\n",
       "    }\n",
       "\n",
       "    .dataframe thead th {\n",
       "        text-align: right;\n",
       "    }\n",
       "</style>\n",
       "<table border=\"1\" class=\"dataframe\">\n",
       "  <thead>\n",
       "    <tr style=\"text-align: right;\">\n",
       "      <th></th>\n",
       "      <th>English</th>\n",
       "      <th>Positive</th>\n",
       "      <th>Negative</th>\n",
       "    </tr>\n",
       "  </thead>\n",
       "  <tbody>\n",
       "    <tr>\n",
       "      <th>0</th>\n",
       "      <td>aback</td>\n",
       "      <td>0</td>\n",
       "      <td>0</td>\n",
       "    </tr>\n",
       "    <tr>\n",
       "      <th>1</th>\n",
       "      <td>abacus</td>\n",
       "      <td>0</td>\n",
       "      <td>0</td>\n",
       "    </tr>\n",
       "    <tr>\n",
       "      <th>2</th>\n",
       "      <td>abandon</td>\n",
       "      <td>0</td>\n",
       "      <td>1</td>\n",
       "    </tr>\n",
       "    <tr>\n",
       "      <th>3</th>\n",
       "      <td>abandoned</td>\n",
       "      <td>0</td>\n",
       "      <td>1</td>\n",
       "    </tr>\n",
       "    <tr>\n",
       "      <th>4</th>\n",
       "      <td>abandonment</td>\n",
       "      <td>0</td>\n",
       "      <td>1</td>\n",
       "    </tr>\n",
       "  </tbody>\n",
       "</table>\n",
       "</div>"
      ],
      "text/plain": [
       "       English  Positive  Negative\n",
       "0        aback         0         0\n",
       "1       abacus         0         0\n",
       "2      abandon         0         1\n",
       "3    abandoned         0         1\n",
       "4  abandonment         0         1"
      ]
     },
     "execution_count": 12,
     "metadata": {},
     "output_type": "execute_result"
    }
   ],
   "source": [
    "df_dict.head()"
   ]
  },
  {
   "cell_type": "code",
   "execution_count": 13,
   "id": "f8060566",
   "metadata": {},
   "outputs": [],
   "source": [
    "import collections"
   ]
  },
  {
   "cell_type": "code",
   "execution_count": 14,
   "id": "46cfc600",
   "metadata": {},
   "outputs": [
    {
     "name": "stdout",
     "output_type": "stream",
     "text": [
      "1\n"
     ]
    }
   ],
   "source": [
    "word = \"good\"\n",
    "# positive = ((df_dict.loc[df_dict['English'] == word, 'Positive']))\n",
    "positive = df_dict[df_dict['English']==word]['Positive'].values[0]\n",
    "print((positive))"
   ]
  },
  {
   "cell_type": "code",
   "execution_count": 15,
   "id": "26767f7b",
   "metadata": {},
   "outputs": [],
   "source": [
    "\n",
    "reviews = np.array(df_test)\n",
    "# df_try.head()\n",
    "# freq=collections.Counter(reviews.iloc[0][\"review\"].split())\n",
    "# print(type(freq))\n",
    "\n",
    "# example = reviews.iloc[0][\"review\"]"
   ]
  },
  {
   "cell_type": "code",
   "execution_count": 16,
   "id": "cda81451",
   "metadata": {},
   "outputs": [],
   "source": [
    "def getSentiment(text):\n",
    "    freq=collections.Counter(text.split())\n",
    "#     print(freq)\n",
    "\n",
    "    count = 0\n",
    "    for word in freq:\n",
    "        \n",
    "        positive = df_dict[df_dict['English']==word]['Positive']\n",
    "        negative = df_dict[df_dict['English']==word]['Negative']\n",
    "        if len(positive) > 0:\n",
    "            count += positive.values[0]\n",
    "        if len(negative) > 0:\n",
    "            count -= negative.values[0]\n",
    "        \n",
    "    return(count)"
   ]
  },
  {
   "cell_type": "code",
   "execution_count": 17,
   "id": "533eb665",
   "metadata": {},
   "outputs": [
    {
     "name": "stdout",
     "output_type": "stream",
     "text": [
      "GetSentiment precision =  0.6379809681423252\n"
     ]
    }
   ],
   "source": [
    "def getPrecision(dataset):\n",
    "    counter = 0\n",
    "    for sent, rev in reviews:\n",
    "        \n",
    "        prediction = \"positive\" if getSentiment(rev)>0 else \"negative\"\n",
    "        \n",
    "        if sent == prediction:\n",
    "            counter += 1\n",
    "            \n",
    "    return counter / len(reviews)\n",
    "\n",
    "# !!! --- Important: resource consuming operations below\n",
    "print(\"GetSentiment precision = \", getPrecision(reviews))"
   ]
  },
  {
   "cell_type": "code",
   "execution_count": null,
   "id": "8b04f9de",
   "metadata": {},
   "outputs": [],
   "source": []
  },
  {
   "cell_type": "code",
   "execution_count": 18,
   "id": "b712349b",
   "metadata": {},
   "outputs": [
    {
     "name": "stdout",
     "output_type": "stream",
     "text": [
      "GetSentiment Lemmatizated precision =  0.6652875465453041\n"
     ]
    }
   ],
   "source": [
    "def getPrecisionL(dataset):\n",
    "    counter = 0\n",
    "    for sent, rev in reviews:\n",
    "        \n",
    "        text = TextBlob(rev)\n",
    "        lemmatized_text = \" \". join([w.lemmatize() for w in text.words])\n",
    "        prediction = \"positive\" if getSentiment(lemmatized_text)>0 else \"negative\"\n",
    "        \n",
    "        if sent == prediction:\n",
    "            counter += 1\n",
    "            \n",
    "    return counter / len(reviews)\n",
    "\n",
    "# !!! --- Important: resource consuming operations below\n",
    "print(\"GetSentiment Lemmatizated precision = \", getPrecisionL(reviews))"
   ]
  },
  {
   "cell_type": "markdown",
   "id": "0ff69841",
   "metadata": {},
   "source": [
    "TextBlob precision =  0.7641704592470004\n",
    "\n",
    "VaderSentiment precision =  0.7931319817956144\n",
    "\n",
    "GetSentiment precision =  0.6379809681423252\n",
    "\n",
    "GetSentiment Lemmatizated precision =  0.6652875465453041\n"
   ]
  },
  {
   "cell_type": "code",
   "execution_count": 19,
   "id": "ea62eaab",
   "metadata": {},
   "outputs": [
    {
     "data": {
      "text/plain": [
       "'The striped bat are hanging on their foot for best'"
      ]
     },
     "execution_count": 19,
     "metadata": {},
     "output_type": "execute_result"
    }
   ],
   "source": [
    "# Lemmatize a sentence\n",
    "sentence = \"The striped bats are hanging on their feet for best\"\n",
    "sent = TextBlob(sentence)\n",
    "\" \". join([w.lemmatize() for w in sent.words])"
   ]
  },
  {
   "cell_type": "code",
   "execution_count": 20,
   "id": "9041d927",
   "metadata": {},
   "outputs": [
    {
     "data": {
      "text/plain": [
       "'The striped bat be hang on their foot for best'"
      ]
     },
     "execution_count": 20,
     "metadata": {},
     "output_type": "execute_result"
    }
   ],
   "source": [
    "# Define function to lemmatize each word with its POS tag\n",
    "def lemmatize_with_postag(sentence):\n",
    "    sent = TextBlob(sentence)\n",
    "    tag_dict = {\"J\": 'a', \n",
    "                \"N\": 'n', \n",
    "                \"V\": 'v', \n",
    "                \"R\": 'r'}\n",
    "    words_and_tags = [(w, tag_dict.get(pos[0], 'n')) for w, pos in sent.tags]    \n",
    "    lemmatized_list = [wd.lemmatize(tag) for wd, tag in words_and_tags]\n",
    "    return \" \".join(lemmatized_list)\n",
    "\n",
    "# Lemmatize\n",
    "sentence = \"The striped bats are hanging on their feet for best\"\n",
    "lemmatize_with_postag(sentence)\n",
    "#> 'The striped bat be hang on their foot for best'"
   ]
  },
  {
   "cell_type": "code",
   "execution_count": 21,
   "id": "15ad37a9",
   "metadata": {},
   "outputs": [
    {
     "name": "stdout",
     "output_type": "stream",
     "text": [
      "[('The', 'DT'), ('striped', 'JJ'), ('bats', 'NNS'), ('are', 'VBP'), ('hanging', 'VBG'), ('on', 'IN'), ('their', 'PRP$'), ('feet', 'NNS'), ('for', 'IN'), ('best', 'JJS')]\n"
     ]
    }
   ],
   "source": [
    "print(nltk.pos_tag(nltk.word_tokenize(sentence)))"
   ]
  },
  {
   "cell_type": "code",
   "execution_count": null,
   "id": "af665745",
   "metadata": {},
   "outputs": [],
   "source": []
  }
 ],
 "metadata": {
  "kernelspec": {
   "display_name": "Python 3",
   "language": "python",
   "name": "python3"
  },
  "language_info": {
   "codemirror_mode": {
    "name": "ipython",
    "version": 3
   },
   "file_extension": ".py",
   "mimetype": "text/x-python",
   "name": "python",
   "nbconvert_exporter": "python",
   "pygments_lexer": "ipython3",
   "version": "3.8.8"
  }
 },
 "nbformat": 4,
 "nbformat_minor": 5
}
